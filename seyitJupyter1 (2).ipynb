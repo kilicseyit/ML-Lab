{
 "cells": [
  {
   "cell_type": "code",
   "execution_count": null,
   "id": "ebe0fa10-ed33-4f3c-839f-11bac5959f69",
   "metadata": {},
   "outputs": [],
   "source": [
    "import numpy as np"
   ]
  },
  {
   "cell_type": "code",
   "execution_count": null,
   "id": "6a196168-a6f7-4f44-9543-aa554c3d30a4",
   "metadata": {},
   "outputs": [],
   "source": [
    "array2=np.array([1,2,3,4,5,6,7,8,9,10,11,12,13,14,15])\n",
    "print(\"Vector:\",array2)\n",
    "a=array2.reshape(3,5)\n",
    "print(\"Two dimensional array:\",a)"
   ]
  },
  {
   "cell_type": "code",
   "execution_count": null,
   "id": "053afa20-ca9f-4045-88c9-8a640e1e64a5",
   "metadata": {},
   "outputs": [],
   "source": [
    "print(\"shape:\",a.shape)\n",
    "print(\"dimension:\",a.ndim)\n",
    "print(\"data type:\",a.dtype.name)\n",
    "print(\"size:\",a.size)\n",
    "print(\"type:\",type(a))"
   ]
  },
  {
   "cell_type": "code",
   "execution_count": null,
   "id": "8569fda2-f03c-4b1f-8ec7-142565cbbec6",
   "metadata": {},
   "outputs": [],
   "source": [
    "x=np.array([1,2,3])\n",
    "y=np.array([4,5,6])\n",
    "print(x+y)\n",
    "print(x-y)\n",
    "print(x**2)"
   ]
  },
  {
   "cell_type": "code",
   "execution_count": null,
   "id": "8dca9bdd-130e-4e05-a2a4-6c792b6a45e8",
   "metadata": {},
   "outputs": [],
   "source": [
    "a=np.array([1,2,3])\n",
    "d=a.copy()\n",
    "print(d)\n",
    "b=a\n",
    "c=a\n",
    "b[0]=5\n",
    "print(a,b,c)"
   ]
  },
  {
   "cell_type": "code",
   "execution_count": null,
   "id": "3b6837b0-c40f-44ee-a25a-85f3d6f1968e",
   "metadata": {},
   "outputs": [],
   "source": [
    "a=np.array([1,2,3,4,5,6,7])\n",
    "print(a[0])\n",
    "print(a[0:4])"
   ]
  },
  {
   "cell_type": "code",
   "execution_count": null,
   "id": "03339547-205e-48f9-9e03-8c7e815b6027",
   "metadata": {},
   "outputs": [],
   "source": [
    "reverse_array=a[::-1]\n",
    "print(reverse_array)"
   ]
  },
  {
   "cell_type": "code",
   "execution_count": null,
   "id": "f4204c2e-e7e1-4011-83bf-6d15e41d4107",
   "metadata": {},
   "outputs": [],
   "source": [
    "b=np.array([[1,2,3,4,5],[6,7,8,9,10]])\n",
    "print(b)\n",
    "print(b[1,1])\n",
    "print(b[:,1])\n",
    "print(b[1,:])\n",
    "print(b[1,1:4])\n",
    "print(b[-1,:])\n",
    "print(b[:,-1])"
   ]
  },
  {
   "cell_type": "code",
   "execution_count": null,
   "id": "8ab7d92b-7914-44a3-8f4d-27fc6b9647ea",
   "metadata": {},
   "outputs": [],
   "source": [
    "**MATPLOTLIB BASICS**"
   ]
  },
  {
   "cell_type": "code",
   "execution_count": null,
   "id": "ffd6a04a-9e37-40e0-8dfa-300abc4d36b0",
   "metadata": {},
   "outputs": [],
   "source": [
    "import matplotlib.pyplot as plt\n",
    "import numpy as np\n",
    "data = np.random.randn(1000)\n",
    "\n",
    "plt.hist(data,bins=30)\n",
    "plt.title(\"histogram\")\n",
    "plt.xlabel(\"Values\")\n",
    "plt.ylabel(\"Frequencies\")\n",
    "plt.show()\n"
   ]
  },
  {
   "cell_type": "code",
   "execution_count": null,
   "id": "e0ba1cd6-e737-4473-8913-1076a1b6e680",
   "metadata": {},
   "outputs": [],
   "source": [
    "sizes=[30,25,15,10,5,5]\n",
    "plt.pie(sizes)\n",
    "plt.title(\"Pie Chart\")\n",
    "plt.show()\n"
   ]
  }
 ],
 "metadata": {
  "kernelspec": {
   "display_name": "Python 3 (ipykernel)",
   "language": "python",
   "name": "python3"
  },
  "language_info": {
   "codemirror_mode": {
    "name": "ipython",
    "version": 3
   },
   "file_extension": ".py",
   "mimetype": "text/x-python",
   "name": "python",
   "nbconvert_exporter": "python",
   "pygments_lexer": "ipython3",
   "version": "3.11.7"
  }
 },
 "nbformat": 4,
 "nbformat_minor": 5
}
